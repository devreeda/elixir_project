{
 "cells": [
  {
   "cell_type": "markdown",
   "metadata": {},
   "source": [
    "# IMT TAF Fiabilité : Test de charge\n",
    "\n",
    "- **durée** 30s"
   ]
  },
  {
   "cell_type": "code",
   "execution_count": null,
   "metadata": {},
   "outputs": [],
   "source": [
    "%matplotlib inline\n",
    "%config InlineBackend.rc = {'font.size': 10, 'figure.figsize': (16.0, 5.0),'figure.dpi': 75}\n",
    "import pandas as pd\n",
    "from matplotlib import pyplot as plt #%matplotlib notebook"
   ]
  },
  {
   "cell_type": "code",
   "execution_count": null,
   "metadata": {},
   "outputs": [],
   "source": [
    "d = pd.read_csv('data/stats.csv', parse_dates=['ts'], date_parser=lambda x: pd.to_datetime(x, unit='ms').tz_localize('UTC').tz_convert('Europe/Paris'),\n",
    "                                names=['id','ts','path','latency','res','res_desc'])\n",
    "d[\"grouppath\"] = d.apply(lambda x: \"/\".join(x['path'].split(\"/\")[:2]), axis=1)\n",
    "d.head()"
   ]
  },
  {
   "cell_type": "markdown",
   "metadata": {},
   "source": [
    "## Indicateurs - résumé"
   ]
  },
  {
   "cell_type": "code",
   "execution_count": null,
   "metadata": {},
   "outputs": [],
   "source": [
    "d.describe()"
   ]
  },
  {
   "cell_type": "code",
   "execution_count": null,
   "metadata": {},
   "outputs": [],
   "source": [
    "def histogroup(k):\n",
    "    lat = d['latency'].loc[k]; ok = d['res'].loc[k]\n",
    "    return \"failed\" if ok == \"ko\" else \"t<20ms\" if lat < 20 else \"20ms<t<40ms\" if lat < 40 else \"40ms<t<200ms\" if lat < 200 else \"t>200ms\"\n",
    "histo = d.groupby(histogroup)['id'].count()\n",
    "ordered_labels = [\"failed\", \"t<20ms\", \"20ms<t<40ms\", \"40ms<t<200ms\", \"t>200ms\"]; color_dict = {\"t<20ms\": '#4eac5b', \"20ms<t<40ms\": '#608ece', \"40ms<t<200ms\" : '#fffc54', \"t>200ms\" : '#ef7b36', \"failed\": 'r'}\n",
    "histo = histo.reindex(pd.Categorical(histo.index,categories=ordered_labels,ordered=True)).sort_index()\n",
    "colors = [color_dict[l] for l in histo.index]\n",
    "histo.plot.bar(color=colors);"
   ]
  },
  {
   "cell_type": "code",
   "execution_count": null,
   "metadata": {},
   "outputs": [],
   "source": [
    "histo.plot.pie(colors=colors,figsize=(5,5));"
   ]
  },
  {
   "cell_type": "code",
   "execution_count": null,
   "metadata": {},
   "outputs": [],
   "source": [
    "def okcount(x):\n",
    "    return x.value_counts().get(\"ok\", 0)\n",
    "def kocount(x):\n",
    "    return x.value_counts().get(\"ko\", 0)\n",
    "def koper(x):\n",
    "    return 100*(x.value_counts().get(\"ko\", 0) / x.count())\n",
    "def pct95th(x):\n",
    "    print(x.values)\n",
    "    print(x.count())\n",
    "    print(x.quantile([1]))\n",
    "    return x.quantile(0.95)\n",
    "def pct99th(x):\n",
    "    return x.quantile(0.99)\n",
    "def reqpersec(x):\n",
    "    return x.groupby(x.apply(lambda y: y.floor('s'))).count().mean()\n",
    "\n",
    "#d.groupby([\"grouppath\"])\n",
    "d.groupby([\"grouppath\"]).agg({'res': ['count',okcount,kocount,koper],'latency': ['mean','std','min','max'],'ts': [reqpersec]})\n",
    "# d.groupby([\"grouppath\"]).agg({'res': [okcount]})\n"
   ]
  },
  {
   "cell_type": "markdown",
   "metadata": {},
   "source": [
    "## Temps de réponse (ms)"
   ]
  },
  {
   "cell_type": "code",
   "execution_count": null,
   "metadata": {
    "scrolled": false
   },
   "outputs": [],
   "source": [
    "d.groupby(d['grouppath'])['latency'].plot();"
   ]
  },
  {
   "cell_type": "code",
   "execution_count": null,
   "metadata": {
    "scrolled": false
   },
   "outputs": [],
   "source": [
    "d.boxplot(column=['latency'], by='grouppath');"
   ]
  }
 ],
 "metadata": {
  "interpreter": {
   "hash": "aee8b7b246df8f9039afb4144a1f6fd8d2ca17a180786b69acc140d282b71a49"
  },
  "kernelspec": {
   "display_name": "Python 3.9.7 64-bit",
   "name": "python3"
  },
  "language_info": {
   "codemirror_mode": {
    "name": "ipython",
    "version": 3
   },
   "file_extension": ".py",
   "mimetype": "text/x-python",
   "name": "python",
   "nbconvert_exporter": "python",
   "pygments_lexer": "ipython3",
   "version": "3.9.7"
  }
 },
 "nbformat": 4,
 "nbformat_minor": 2
}
